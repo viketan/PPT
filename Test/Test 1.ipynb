{
 "cells": [
  {
   "cell_type": "markdown",
   "id": "62614494",
   "metadata": {},
   "source": [
    "Move Zeroes\n",
    "Given an integer array nums, move all 0's to the end of it while maintaining the relative order of the non-zero elements.\n",
    "\n",
    "Note that you must do this in-place without making a copy of the array.\n",
    "\n",
    "Example 1:\n",
    "Input: nums = [0,1,0,3,12]\n",
    "Output: [1,3,12,0,0]\n",
    "\n",
    "Example 2:\n",
    "Input: nums = [0]\n",
    "Output: [0]\n",
    "\n",
    "Constraints:\n",
    "a. 1 <= nums.length <= 10^4\n",
    "b. -2^31 <= nums[i] <= 2^31 - 1\n"
   ]
  },
  {
   "cell_type": "code",
   "execution_count": 11,
   "id": "085dadb7",
   "metadata": {},
   "outputs": [],
   "source": [
    "def moveZeros(nums):\n",
    "    non_zero_pointer = 0\n",
    "    for i in range(len(nums)):\n",
    "        if nums[i] != 0:\n",
    "            nums[i], nums[non_zero_pointer] = nums[non_zero_pointer], nums[i]\n",
    "            non_zero_pointer += 1\n",
    "    return nums"
   ]
  },
  {
   "cell_type": "code",
   "execution_count": 12,
   "id": "f5a79560",
   "metadata": {},
   "outputs": [
    {
     "name": "stdout",
     "output_type": "stream",
     "text": [
      "[1, 3, 12, 0, 0]\n",
      "[0]\n"
     ]
    }
   ],
   "source": [
    "nums1 = [0, 1, 0, 3, 12]\n",
    "print(moveZeros(nums1))  \n",
    "\n",
    "nums2 = [0]\n",
    "print(moveZeros(nums2)) \n"
   ]
  },
  {
   "cell_type": "markdown",
   "id": "23a6f984",
   "metadata": {},
   "source": [
    "First Unique Character in a String\n",
    "\n",
    "Given a string s, find the first non-repeating character in it and return its index. If it does not exist, return -1.\n",
    "\n",
    "Example 1:\n",
    "Input: s = \"leetcode\"\n",
    "Output: 0\n",
    "\n",
    "Example 2:\n",
    "Input: s = \"loveleetcode\"\n",
    "Output: 2\n",
    "\n",
    "Example 3:\n",
    "Input: s = \"aabb\"\n",
    "Output: -1\n",
    "\n",
    "Constraints:\n",
    "a. 1 <= s.length <= 10^5\n",
    "b. s consists of only lowercase English letters."
   ]
  },
  {
   "cell_type": "code",
   "execution_count": 13,
   "id": "6918feba",
   "metadata": {},
   "outputs": [],
   "source": [
    "def firstUniqChar(s):\n",
    "    char_count = {}\n",
    "    for char in s:\n",
    "        char_count[char] = char_count.get(char, 0) + 1\n",
    "    for i in range(len(s)):\n",
    "        if char_count[s[i]] == 1:\n",
    "            return i\n",
    "    return -1"
   ]
  },
  {
   "cell_type": "code",
   "execution_count": 14,
   "id": "4ddfbddd",
   "metadata": {},
   "outputs": [
    {
     "name": "stdout",
     "output_type": "stream",
     "text": [
      "0\n",
      "2\n",
      "-1\n"
     ]
    }
   ],
   "source": [
    "s1 = \"leetcode\"\n",
    "print(firstUniqChar(s1))  \n",
    "\n",
    "s2 = \"loveleetcode\"\n",
    "print(firstUniqChar(s2))  \n",
    "\n",
    "s3 = \"aabb\"\n",
    "print(firstUniqChar(s3)) "
   ]
  },
  {
   "cell_type": "code",
   "execution_count": null,
   "id": "50da244a",
   "metadata": {},
   "outputs": [],
   "source": []
  }
 ],
 "metadata": {
  "kernelspec": {
   "display_name": "Python 3 (ipykernel)",
   "language": "python",
   "name": "python3"
  },
  "language_info": {
   "codemirror_mode": {
    "name": "ipython",
    "version": 3
   },
   "file_extension": ".py",
   "mimetype": "text/x-python",
   "name": "python",
   "nbconvert_exporter": "python",
   "pygments_lexer": "ipython3",
   "version": "3.9.13"
  }
 },
 "nbformat": 4,
 "nbformat_minor": 5
}
