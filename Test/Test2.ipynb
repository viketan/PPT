{
 "cells": [
  {
   "cell_type": "markdown",
   "id": "542bdba3",
   "metadata": {},
   "source": [
    "# Question 1"
   ]
  },
  {
   "cell_type": "code",
   "execution_count": 1,
   "id": "057d593c",
   "metadata": {},
   "outputs": [],
   "source": [
    "def mySqrt(x):\n",
    "    if x == 0:\n",
    "        return 0\n",
    "\n",
    "    left = 1\n",
    "    right = x\n",
    "\n",
    "    while left <= right:\n",
    "        mid = left + (right - left) // 2\n",
    "        if mid * mid == x:\n",
    "            return mid\n",
    "        elif mid * mid > x:\n",
    "            right = mid - 1\n",
    "        else:\n",
    "            left = mid + 1\n",
    "\n",
    "    return right"
   ]
  },
  {
   "cell_type": "code",
   "execution_count": 4,
   "id": "f9293c74",
   "metadata": {},
   "outputs": [
    {
     "data": {
      "text/plain": [
       "2"
      ]
     },
     "execution_count": 4,
     "metadata": {},
     "output_type": "execute_result"
    }
   ],
   "source": [
    "mySqrt(4)"
   ]
  },
  {
   "cell_type": "code",
   "execution_count": 5,
   "id": "3c4abcc5",
   "metadata": {},
   "outputs": [
    {
     "data": {
      "text/plain": [
       "2"
      ]
     },
     "execution_count": 5,
     "metadata": {},
     "output_type": "execute_result"
    }
   ],
   "source": [
    "mySqrt(8)"
   ]
  },
  {
   "cell_type": "code",
   "execution_count": 6,
   "id": "011e6b85",
   "metadata": {},
   "outputs": [],
   "source": [
    "class ListNode:\n",
    "    def __init__(self, val=0, next=None):\n",
    "        self.val = val\n",
    "        self.next = next\n",
    "\n",
    "def addTwoNumbers(l1, l2):\n",
    "    result = ListNode()\n",
    "    current = result\n",
    "\n",
    "    carry = 0\n",
    "\n",
    "    while l1 or l2:\n",
    "        x = l1.val if l1 else 0\n",
    "        y = l2.val if l2 else 0\n",
    "        digit_sum = carry + x + y\n",
    "        carry = digit_sum // 10\n",
    "        digit = digit_sum % 10\n",
    "\n",
    "        current.next = ListNode(digit)\n",
    "        current = current.next\n",
    "\n",
    "        if l1:\n",
    "            l1 = l1.next\n",
    "        if l2:\n",
    "            l2 = l2.next\n",
    "\n",
    "    if carry > 0:\n",
    "        current.next = ListNode(carry)\n",
    "\n",
    "    return result.next\n"
   ]
  },
  {
   "cell_type": "code",
   "execution_count": 7,
   "id": "0f14c0ab",
   "metadata": {},
   "outputs": [
    {
     "name": "stdout",
     "output_type": "stream",
     "text": [
      "7 0 8 "
     ]
    }
   ],
   "source": [
    "l1 = ListNode(2)\n",
    "l1.next = ListNode(4)\n",
    "l1.next.next = ListNode(3)\n",
    "\n",
    "l2 = ListNode(5)\n",
    "l2.next = ListNode(6)\n",
    "l2.next.next = ListNode(4)\n",
    "\n",
    "result = addTwoNumbers(l1, l2)\n",
    "\n",
    "while result:\n",
    "    print(result.val, end=\" \")\n",
    "    result = result.next"
   ]
  },
  {
   "cell_type": "code",
   "execution_count": 8,
   "id": "c0ee9371",
   "metadata": {},
   "outputs": [
    {
     "name": "stdout",
     "output_type": "stream",
     "text": [
      "0 "
     ]
    }
   ],
   "source": [
    "l1 = ListNode(0)\n",
    "l2 = ListNode(0)\n",
    "\n",
    "result = addTwoNumbers(l1, l2)\n",
    "\n",
    "while result:\n",
    "    print(result.val, end=\" \")\n",
    "    result = result.next"
   ]
  },
  {
   "cell_type": "code",
   "execution_count": 9,
   "id": "e558da6e",
   "metadata": {},
   "outputs": [
    {
     "name": "stdout",
     "output_type": "stream",
     "text": [
      "8 9 9 9 0 0 0 1 "
     ]
    }
   ],
   "source": [
    "l1 = ListNode(9)\n",
    "l1.next = ListNode(9)\n",
    "l1.next.next = ListNode(9)\n",
    "l1.next.next.next = ListNode(9)\n",
    "l1.next.next.next.next = ListNode(9)\n",
    "l1.next.next.next.next.next = ListNode(9)\n",
    "l1.next.next.next.next.next.next = ListNode(9)\n",
    "\n",
    "l2 = ListNode(9)\n",
    "l2.next = ListNode(9)\n",
    "l2.next.next = ListNode(9)\n",
    "l2.next.next.next = ListNode(9)\n",
    "\n",
    "result = addTwoNumbers(l1, l2)\n",
    "\n",
    "while result:\n",
    "    print(result.val, end=\" \")\n",
    "    result = result.next"
   ]
  },
  {
   "cell_type": "code",
   "execution_count": null,
   "id": "06d618d6",
   "metadata": {},
   "outputs": [],
   "source": []
  }
 ],
 "metadata": {
  "kernelspec": {
   "display_name": "Python 3 (ipykernel)",
   "language": "python",
   "name": "python3"
  },
  "language_info": {
   "codemirror_mode": {
    "name": "ipython",
    "version": 3
   },
   "file_extension": ".py",
   "mimetype": "text/x-python",
   "name": "python",
   "nbconvert_exporter": "python",
   "pygments_lexer": "ipython3",
   "version": "3.9.13"
  }
 },
 "nbformat": 4,
 "nbformat_minor": 5
}
